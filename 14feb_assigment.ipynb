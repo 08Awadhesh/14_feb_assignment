{
 "cells": [
  {
   "cell_type": "markdown",
   "id": "49cb37b1-2ab6-4315-8fd6-c44aad48a483",
   "metadata": {},
   "source": [
    "**Q1**-What is multithreading in python? Why is it used? Name the module used to handle threads in python.\n",
    "\n",
    "**Answer**- Multithreading in Python refers to the ability of a program to perform multiple tasks concurrently. It is achieved by creating multiple threads of execution within the same program. Each thread is a separate flow of execution within the program that runs independently of other threads.\n",
    "Multithreading is used to improve the performance and responsiveness of a program by allowing it to perform multiple tasks simultaneously.\n",
    "\n",
    "Multithreading is achieved using the threading module, which provides a simple way to create and manage threads. The module allows you to create new threads, start them, and wait for them to complete. It also provides synchronization primitives like locks and semaphores to coordinate access to shared resources."
   ]
  },
  {
   "cell_type": "markdown",
   "id": "4f6aaeb6-8f6e-4431-ad3c-47087211970e",
   "metadata": {},
   "source": [
    "**Q2:**Why threading module used? Write the use of the following functions:\n",
    "\n",
    "(1) activeCount()\n",
    " \n",
    "(2) currentThread()\n",
    " \n",
    "(3) enumerate()\n",
    "\n",
    "**Answer** -Threading module provieds a simple way to create and manage threads .This module allows you to create new threads ,start them ,and wait for them to complete .It also provieds synchronization primitives like locks and semaphores to corrdinate access to shared resources.\n",
    "\n",
    "**Use of :**\n",
    "\n",
    "(1)**activeCount**:  activeCount() is a function from the threading module in Python, which returns the number of thread objects that are currently active. This includes both daemon and non-daemon threads.\n",
    "\n",
    "(2)**currentThread**:currentThread() is a function from the threading module in Python, which returns the thread object representing the current thread of execution.\n",
    "\n",
    "The function can be used to get information about the current thread, such as its name, ID, and stack trace.\n",
    "\n",
    "(3)**enumerate**:The function can be used to iterate over all the active threads in a program and perform operations on them, such as waiting for them to complete or terminating them."
   ]
  },
  {
   "cell_type": "markdown",
   "id": "c6c67584-dced-4e35-9aac-bd3cb3e21eab",
   "metadata": {},
   "source": [
    "**Q3**:Explain the following functions\n",
    "(1)run()\n",
    "\n",
    "(2)start()\n",
    "\n",
    "(3)join()\n",
    "\n",
    "(4)isAlive()\n",
    "\n",
    "**Answer**:(1)**run():** run() is a method that is called when a thread's start() method is called. This method contains the code that is executed by the thread when it starts running. It is important to note that run() should not be called directly; instead, it should be overridden by a subclass of the Thread class and the start() method should be called to start the thread.\n",
    "\n",
    "For example, the following code defines a MyThread class that overrides the run() method to print a message when the thread starts running:\n",
    "\n",
    "\n",
    "    "
   ]
  },
  {
   "cell_type": "code",
   "execution_count": 3,
   "id": "233320e7-ac3a-4e03-9f0b-f6bf8bf534a7",
   "metadata": {},
   "outputs": [
    {
     "name": "stdout",
     "output_type": "stream",
     "text": [
      "Thread started\n"
     ]
    }
   ],
   "source": [
    "import threading\n",
    "\n",
    "class MyThread(threading.Thread):\n",
    "    def run(self):\n",
    "        print(\"Thread started\")\n",
    "\n",
    "# Create a new instance of the MyThread class\n",
    "thread = MyThread()\n",
    "\n",
    "# Start the thread\n",
    "thread.start()"
   ]
  },
  {
   "cell_type": "markdown",
   "id": "ab8ee4d6-e4ab-4890-ad24-5a88a5257ccd",
   "metadata": {},
   "source": [
    "**(2) start** : start() is a method of the Thread class in Python that starts a new thread of execution. When called, the start() method creates a new thread and calls its run() method to start executing the thread's code.\n",
    "\n",
    "For example, the following code creates a new thread and starts it running:"
   ]
  },
  {
   "cell_type": "code",
   "execution_count": 4,
   "id": "57a0bf88-27cf-4b9a-b97c-ebe37e053497",
   "metadata": {},
   "outputs": [
    {
     "name": "stdout",
     "output_type": "stream",
     "text": [
      "Thread started\n"
     ]
    }
   ],
   "source": [
    "import threading\n",
    "\n",
    "def my_function():\n",
    "    print(\"Thread started\")\n",
    "\n",
    "# Create a new thread\n",
    "thread = threading.Thread(target=my_function)\n",
    "\n",
    "# Start the thread\n",
    "thread.start()\n"
   ]
  },
  {
   "cell_type": "markdown",
   "id": "faeacfa3-ca02-4a06-b259-b8db553871f2",
   "metadata": {},
   "source": [
    "**(3) join**:join() is a method of the Thread class in Python that blocks the calling thread until the thread on which it is called has completed its execution. This means that the calling thread will wait for the specified thread to finish before continuing with its own execution.\n",
    "\n",
    "For example, the following code creates a new thread, starts it running, and then waits for it to finish using the join() method:"
   ]
  },
  {
   "cell_type": "code",
   "execution_count": 5,
   "id": "40594418-3c9f-4741-bf45-e8fac5fdd9f8",
   "metadata": {},
   "outputs": [
    {
     "name": "stdout",
     "output_type": "stream",
     "text": [
      "Thread started\n",
      "Thread finished\n",
      "Main thread finished\n"
     ]
    }
   ],
   "source": [
    "import threading\n",
    "\n",
    "def my_function():\n",
    "    print(\"Thread started\")\n",
    "    # Some long running operation here\n",
    "    print(\"Thread finished\")\n",
    "\n",
    "# Create a new thread\n",
    "thread = threading.Thread(target=my_function)\n",
    "\n",
    "# Start the thread\n",
    "thread.start()\n",
    "\n",
    "# Wait for the thread to finish\n",
    "thread.join()\n",
    "\n",
    "print(\"Main thread finished\")\n"
   ]
  },
  {
   "cell_type": "markdown",
   "id": "f7cbb26d-46b3-43f4-9874-0cbc101c464f",
   "metadata": {},
   "source": [
    "**(4)isAlive**: isAlive() is a method of the Thread class in Python that returns True if the thread on which it is called is currently running, and False otherwise. This method is useful for checking the status of a thread and determining if it has completed its execution.\n",
    "\n",
    "For example, the following code creates a new thread, starts it running, and then checks if it is still alive using the isAlive() method:"
   ]
  },
  {
   "cell_type": "markdown",
   "id": "35864322-1fde-4f50-9416-5aeafcb1ca3d",
   "metadata": {},
   "source": [
    "**Q4**:4. Write a python program to create two threads. Thread one must print the list of squares and thread\n",
    "two must print the list of cubes.\n",
    "\n",
    "**Answer**:"
   ]
  },
  {
   "cell_type": "code",
   "execution_count": 9,
   "id": "7af02d6d-9bb7-46e1-9828-8653ce0e1605",
   "metadata": {},
   "outputs": [
    {
     "name": "stdout",
     "output_type": "stream",
     "text": [
      "sqaures: [1, 4, 9, 16, 25, 36, 49, 64, 81, 100]\n",
      "cube: [1, 8, 27, 64, 125, 216, 343, 512, 729, 1000]\n"
     ]
    }
   ],
   "source": [
    "import threading\n",
    "\n",
    "def print_sqaure():\n",
    "    sqaures = [i**2 for i in range(1,11)]\n",
    "    print(\"sqaures:\",sqaures)\n",
    "\n",
    "def print_cube():\n",
    "    cube = [i**3 for i in range(1,11)]\n",
    "    print(\"cube:\",cube)\n",
    "    \n",
    "thread_1 = threading.Thread(target=print_sqaure)\n",
    "thread_2= threading.Thread(target=print_cube)\n",
    "\n",
    "thread_1.start()\n",
    "thread_2.start()\n",
    "\n",
    "thread_1.join()\n",
    "thread_2.join()\n",
    "\n"
   ]
  },
  {
   "cell_type": "markdown",
   "id": "194151e3-d94e-4392-bc98-7d5c8e1a4708",
   "metadata": {},
   "source": [
    "**Q5** State advantages and disadvantages of multithreading.\n",
    "**Answer:** **Advantages of multithreading:**\n",
    "\n",
    "(1) Improved performance: Multithreading allows multiple threads to run concurrently, which can improve the performance of a program by utilizing the available resources more efficiently.\n",
    "\n",
    "(2) Responsiveness: Multithreading can improve the responsiveness of a program by allowing it to handle multiple tasks simultaneously. This can be particularly useful in user interfaces and other interactive applications.\n",
    "\n",
    "(3) Simplified design: Multithreading can simplify the design of a program by allowing it to be broken down into smaller, more manageable pieces that can be executed independently.\n",
    "\n",
    "(4) Resource sharing: Multithreading allows threads to share resources, such as memory, files, and network connections, which can reduce the overhead associated with managing these resources.\n",
    "\n",
    "(5) Scalability: Multithreading can improve the scalability of a program by allowing it to handle more work as the number of available cores and processors increases.\n",
    "\n",
    "**Disadvantages of multithreading:**\n",
    "\n",
    "(1) Complexity: Multithreading can add complexity to a program, making it more difficult to design, implement, and debug.\n",
    "\n",
    "(2) Synchronization and coordination: Multithreading requires careful synchronization and coordination between threads to ensure that they do not interfere with each other, which can be difficult to manage.\n",
    "\n",
    "(3) Deadlocks: Multithreading can lead to deadlocks, where two or more threads are blocked waiting for each other to release resources.\n",
    "\n",
    "(4) Overhead: Multithreading can add overhead to a program, particularly in terms of memory usage and CPU utilization, which can have a negative impact on performance.\n",
    "\n",
    "(5) Debugging: Multithreaded programs can be more difficult to debug than single-threaded programs, as the behavior of the program can be influenced by the order in which threads are executed.\n",
    "\n",
    "\n",
    "\n",
    "\n"
   ]
  },
  {
   "cell_type": "markdown",
   "id": "45738962-af3a-4a86-86a6-2024c29563c4",
   "metadata": {},
   "source": [
    "**Q6**Explain deadlocks and race conditions.\n",
    "\n",
    "**Answer**: Deadlock and race conditions are two types of problems that can occur in concurrent programming.\n",
    "\n",
    "**Deadlock:\n",
    "\n",
    "Deadlock occurs when two or more threads are blocked, each waiting for the other to release a resource that they need. For example, if thread A holds resource X and is waiting for resource Y, and thread B holds resource Y and is waiting for resource X, then both threads will be blocked and unable to proceed. Deadlocks can occur when multiple threads try to access shared resources in an uncoordinated way, without proper synchronization.\n",
    "\n",
    "Race conditions:\n",
    "\n",
    "Race conditions occur when two or more threads access shared resources or data in an uncoordinated way, and the outcome of the program depends on the order in which the threads are executed. For example, if two threads try to update the same variable at the same time, the final value of the variable will depend on the order in which the threads execute. Race conditions can lead to unpredictable and inconsistent behavior, and can be difficult to debug and reproduce."
   ]
  }
 ],
 "metadata": {
  "kernelspec": {
   "display_name": "Python 3 (ipykernel)",
   "language": "python",
   "name": "python3"
  },
  "language_info": {
   "codemirror_mode": {
    "name": "ipython",
    "version": 3
   },
   "file_extension": ".py",
   "mimetype": "text/x-python",
   "name": "python",
   "nbconvert_exporter": "python",
   "pygments_lexer": "ipython3",
   "version": "3.10.8"
  }
 },
 "nbformat": 4,
 "nbformat_minor": 5
}
